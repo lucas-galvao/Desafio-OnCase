{
 "cells": [
  {
   "cell_type": "markdown",
   "metadata": {},
   "source": [
    "## Desafio - Lucas Galvão"
   ]
  },
  {
   "cell_type": "markdown",
   "metadata": {},
   "source": [
    "## Bibliotecas"
   ]
  },
  {
   "cell_type": "code",
   "execution_count": 346,
   "metadata": {},
   "outputs": [],
   "source": [
    "import requests\n",
    "import pandas as pd\n",
    "import datetime\n",
    "import matplotlib.pyplot as plt\n",
    "from bs4 import BeautifulSoup"
   ]
  },
  {
   "cell_type": "markdown",
   "metadata": {},
   "source": [
    "## Tratamento dos dados retirados do site tecmundo"
   ]
  },
  {
   "cell_type": "markdown",
   "metadata": {},
   "source": [
    "### Preenchimento das listas"
   ]
  },
  {
   "cell_type": "code",
   "execution_count": 456,
   "metadata": {},
   "outputs": [],
   "source": [
    "noticia_tm = []\n",
    "data_tm = []\n",
    "hora_tm = []\n",
    "materia_tm = []\n",
    "autor_tm = []\n",
    "compartilhamentos_tm = []\n",
    "comentarios_tm = []\n",
    "tags_tm = []\n",
    "origem_tm = []\n",
    "\n",
    "u = \"https://www.tecmundo.com.br/novidades?page=\"\n",
    "\n",
    "for x in range(1,6):\n",
    "    y = str(x)\n",
    "    z = u+y\n",
    "    page = requests.get(z)\n",
    "    soup = BeautifulSoup(page.content, 'html.parser')\n",
    "    links = soup.find_all(class_=\"tec--card__info\")\n",
    "    \n",
    "    for link in links:\n",
    "        l = link.find('a').get('href')\n",
    "        url = requests.get(l)\n",
    "        artigo = BeautifulSoup(url.content, 'html.parser')\n",
    "        mat = artigo.find(class_=\"tec--article__body\")\n",
    "        materia_tm.append(mat.get_text())\n",
    "        \n",
    "        au = artigo.find(class_=\"tec--author__info__link\")\n",
    "        try:\n",
    "            autor_tm.append(au.get_text())\n",
    "        except AttributeError:\n",
    "            autor_tm.append(\"-\")\n",
    "        \n",
    "        n = link.find(class_ = \"tec--card__title__link\")\n",
    "        noticia_tm.append(n.get_text())\n",
    "        \n",
    "        t = artigo.find(id=\"js-article-date\")\n",
    "        t = t.get_text()\n",
    "        t = t.split(\" \")\n",
    "        data_tm.append(t[1])\n",
    "        hora_tm.append(t[3])\n",
    "        \n",
    "        com = artigo.find(class_=\"tec--toolbar__item\").get_text()\n",
    "        com = com.split(\" \")\n",
    "        compartilhamentos_tm.append(int(com[1]))\n",
    "        \n",
    "        comen = artigo.find(id=\"js-comments-btn\").get_text()\n",
    "        comen = comen.split(\" \")\n",
    "        comentarios_tm.append(int(comen[2]))\n",
    "        \n",
    "        tg = artigo.find(id=\"js-categories\").get_text()\n",
    "        tg = tg.split(\"   \")\n",
    "        for oc in range(len(tg)):\n",
    "            tg[oc] = tg[oc].replace(\" \",\"\")\n",
    "        tags_tm.append(tg)\n",
    "        \n",
    "        origem_tm.append(\"Techmundo\")"
   ]
  },
  {
   "cell_type": "markdown",
   "metadata": {},
   "source": [
    "### Formação da tabela com os valores obtidos"
   ]
  },
  {
   "cell_type": "code",
   "execution_count": 466,
   "metadata": {},
   "outputs": [],
   "source": [
    "tecmundo = pd.DataFrame ({\n",
    "    \"Título\": noticia_tm,\n",
    "    \"Autor\": autor_tm,\n",
    "    \"Conteúdo\": materia_tm,\n",
    "    \"Data\": data_tm,\n",
    "    \"Hora\": hora_tm,\n",
    "    \"Tags\": tags_tm,\n",
    "    \"Comentários\": comentarios_tm,\n",
    "    \"Compartilhamentos\": compartilhamentos_tm,\n",
    "    \"Site\": origem_tm\n",
    "})"
   ]
  },
  {
   "cell_type": "code",
   "execution_count": 465,
   "metadata": {},
   "outputs": [],
   "source": [
    "tag_tm = {}\n",
    "\n",
    "for linha in tags_tm:\n",
    "    for t in linha:\n",
    "        if t in tag_tm.keys():\n",
    "            tag_tm[t] += 1\n",
    "        else:\n",
    "            tag_tm[t] = 1\n",
    "                \n",
    "tag_tm_ord = dict(sorted(tag_tm.items(), key=lambda x: x[1], reverse=True))"
   ]
  },
  {
   "cell_type": "markdown",
   "metadata": {},
   "source": [
    "## Tratamento dos dados retirados do site techtudo"
   ]
  },
  {
   "cell_type": "markdown",
   "metadata": {},
   "source": [
    "### Preenchimento das listas"
   ]
  },
  {
   "cell_type": "code",
   "execution_count": 457,
   "metadata": {},
   "outputs": [],
   "source": [
    "u = \"https://www.techtudo.com.br/plantao/feed/pagina-\"\n",
    "noticia_tt = []\n",
    "data_tt = []\n",
    "hora_tt = []\n",
    "materia_tt = []\n",
    "autor_tt = []\n",
    "tags_tt = []\n",
    "origem_tt = []\n",
    "\n",
    "for x in range(1,11):\n",
    "    y = str(x)\n",
    "    w = y + \".html\"\n",
    "    z = u+w\n",
    "    if (x == 1):\n",
    "        z = \"https://www.techtudo.com.br/plantao.html\"\n",
    "    page = requests.get(z)\n",
    "    soup = BeautifulSoup(page.content, 'html.parser')\n",
    "    links = soup.find_all(class_=\"feed-post-body\")\n",
    "\n",
    "    for link in links:\n",
    "        l = link.find('a').get('href')\n",
    "        url = requests.get(l)\n",
    "        artigo = BeautifulSoup(url.content, 'html.parser')\n",
    "        \n",
    "        mat = artigo.find(itemprop=\"articleBody\")\n",
    "        try:\n",
    "            materia_tt.append(mat.get_text())\n",
    "        except AttributeError:\n",
    "            materia_tt.append(\"-\")\n",
    "        \n",
    "        tg = artigo.find(class_=\"entities__list\").get_text()\n",
    "        tg = tg.split(\"     \")\n",
    "        #Retirar espaços em branco\n",
    "        tg[0] = tg[0].split(\" \")\n",
    "        tg[0] = tg[0][-1]\n",
    "        tg[-1] = tg[-1].split(\" \")\n",
    "        tg[-1] = tg[-1][0]\n",
    "        tags_tt.append(tg)\n",
    "        \n",
    "        \n",
    "        au = artigo.find(class_=\"content-publication-data__from\")\n",
    "        try:\n",
    "            aut = au.get_text()       \n",
    "        except AttributeError:\n",
    "            aut = \"-\"\n",
    "        if aut != \"-\":\n",
    "            aut = aut.split(\",\")\n",
    "            cort = aut[0].split(\" \")\n",
    "            aut = cort[2]\n",
    "            for i in range(3, len(cort)):\n",
    "                aut = aut+\" \"+cort[i]\n",
    "        autor_tt.append(aut)\n",
    "        \n",
    "        t = artigo.find(itemprop=\"datePublished\")\n",
    "        t = t.get_text()\n",
    "        t = t.split(\" \")\n",
    "        data = t[1]\n",
    "        hora = t[2]\n",
    "        hora = hora.split(\"h\")\n",
    "        hora = hora[0]+\":\"+hora[1]\n",
    "        data_tt.append(data)\n",
    "        hora_tt.append(hora)\n",
    "        \n",
    "        n = link.find(class_=\"feed-post-link gui-color-primary gui-color-hover\")\n",
    "        noticia_tt.append(n.get_text())\n",
    "        \n",
    "        origem_tt.append(\"Techtudo\")      "
   ]
  },
  {
   "cell_type": "markdown",
   "metadata": {},
   "source": [
    "### Formação da tabela com valores obtidos"
   ]
  },
  {
   "cell_type": "code",
   "execution_count": 463,
   "metadata": {},
   "outputs": [],
   "source": [
    "techtudo = pd.DataFrame ({\n",
    "    \"Título\": noticia_tt,\n",
    "    \"Autor\": autor_tt,\n",
    "    \"Conteúdo\": materia_tt,\n",
    "    \"Data\": data_tt,\n",
    "    \"Hora\": hora_tt,\n",
    "    \"Tags\": tags_tt,\n",
    "    \"Site\": origem_tt\n",
    "})"
   ]
  },
  {
   "cell_type": "code",
   "execution_count": 464,
   "metadata": {},
   "outputs": [],
   "source": [
    "tag_tt = {}\n",
    "\n",
    "for linha in tags_tt:\n",
    "    for t in linha:\n",
    "        if t in tag_tt.keys():\n",
    "            tag_tt[t] += 1\n",
    "        else:\n",
    "            tag_tt[t] = 1\n",
    "                \n",
    "tag_tt_ord = dict(sorted(tag_tt.items(), key=lambda x: x[1], reverse=True))"
   ]
  },
  {
   "cell_type": "markdown",
   "metadata": {},
   "source": [
    "## Tratamento dos dados retirados do site Olhar Digital"
   ]
  },
  {
   "cell_type": "markdown",
   "metadata": {},
   "source": [
    "### Preenchimento das listas"
   ]
  },
  {
   "cell_type": "code",
   "execution_count": 458,
   "metadata": {},
   "outputs": [],
   "source": [
    "noticia_od = []\n",
    "data_od = []\n",
    "hora_od = []\n",
    "materia_od = []\n",
    "autor_od = []\n",
    "tags_od = []\n",
    "origem_od = []\n",
    "\n",
    "u = \"https://olhardigital.com.br/noticias/\"\n",
    "for x in range(1,6):\n",
    "    y = str(x)\n",
    "    z = u+y\n",
    "    page = requests.get(z)\n",
    "    soup = BeautifulSoup(page.content, 'html.parser')\n",
    "    links = soup.find_all(class_=\"blk-item i-img-left i-com-txt i-com-tpo i-full-width\")\n",
    "    \n",
    "    for link in links:\n",
    "        l = link.get('href')\n",
    "        l = \"https:\"+l\n",
    "        url = requests.get(l)\n",
    "        artigo = BeautifulSoup(url.content, 'html.parser')\n",
    "        mat = artigo.find(class_=\"mat-txt\")\n",
    "        materia_od.append(mat.get_text())\n",
    "        \n",
    "        au = artigo.find(class_=\"meta-item meta-aut\").get_text()\n",
    "        au = au.split(\",\")\n",
    "        au = au[0]\n",
    "        autor_od.append(au)\n",
    "\n",
    "        \n",
    "        n = link.find(class_ = \"ite-nfo nfo-tit\")\n",
    "        noticia_od.append(n.get_text())\n",
    "        \n",
    "        d = artigo.find(class_=\"meta-item meta-pub-d\").get_text()\n",
    "        h = artigo.find(class_=\"meta-item meta-pub-h\").get_text()\n",
    "        h = h.split(\"h\")\n",
    "        h = h[0]+\":\"+h[1]\n",
    "        data_od.append(d)\n",
    "        hora_od.append(h)\n",
    "        \n",
    "        \n",
    "        tg = artigo.find(class_=\"mat-tags\").get_text()\n",
    "        tg = tg.splitlines()\n",
    "        tg = tg[1]\n",
    "        tg = tg.split(\" \")\n",
    "        tags_od.append(tg)\n",
    "        \n",
    "        origem_od.append(\"Olhar Digital\")"
   ]
  },
  {
   "cell_type": "markdown",
   "metadata": {},
   "source": [
    "### Formação da tabela com os valores obtidos"
   ]
  },
  {
   "cell_type": "code",
   "execution_count": 462,
   "metadata": {},
   "outputs": [],
   "source": [
    "olhar_digital = pd.DataFrame ({\n",
    "    \"Título\": noticia_od,\n",
    "    \"Autor\": autor_od,\n",
    "    \"Conteúdo\": materia_od,\n",
    "    \"Data\": data_od,\n",
    "    \"Hora\": hora_od,\n",
    "    \"Tags\": tags_od,\n",
    "    \"Site\": origem_od\n",
    "})"
   ]
  },
  {
   "cell_type": "code",
   "execution_count": 461,
   "metadata": {},
   "outputs": [],
   "source": [
    "tag_od = {}\n",
    "filt = list(range(20))\n",
    "filt = str(filt)\n",
    "filt = list(filt)\n",
    "filt.extend(['a', 'de', 'e', 'o', 'r', 'n', 't', 'G', 's', 'm', 'f', 'S', 'w', 'i', 'c', 'I', 'v'])\n",
    "\n",
    "for linha in tags_od:\n",
    "    for t in linha:\n",
    "        if t not in filt:\n",
    "            if t in tag_od.keys():\n",
    "                tag_od[t] += 1\n",
    "            else:\n",
    "                tag_od[t] = 1\n",
    "                \n",
    "tag_od_ord = dict(sorted(tag_od.items(), key=lambda x: x[1], reverse=True))"
   ]
  },
  {
   "cell_type": "markdown",
   "metadata": {},
   "source": [
    "## Tratamento dos dados retirados do site Canaltech"
   ]
  },
  {
   "cell_type": "code",
   "execution_count": 483,
   "metadata": {
    "scrolled": true
   },
   "outputs": [],
   "source": [
    "noticia_ct = []\n",
    "data_ct = []\n",
    "hora_ct = []\n",
    "materia_ct = []\n",
    "autor_ct = []\n",
    "tags_ct = []\n",
    "origem_ct = []\n",
    "\n",
    "u = \"https://canaltech.com.br/ultimas/p\"\n",
    "for x in range(1,16):\n",
    "    y = str(x)\n",
    "    z = u+y\n",
    "    page = requests.get(z)\n",
    "    soup = BeautifulSoup(page.content, 'html.parser')\n",
    "    links = soup.find_all(class_=\"jc list-item type-artigo timeline-fade\")\n",
    "    \n",
    "    for link in links:\n",
    "        l = link.get('href')\n",
    "        l = \"https://canaltech.com.br\" + l\n",
    "        url = requests.get(l)\n",
    "        artigo = BeautifulSoup(url.content, 'html.parser')\n",
    "        mat = artigo.find(class_=\"content\")\n",
    "        materia_ct.append(mat.get_text())\n",
    "        \n",
    "        au = artigo.find(class_=\"meta-info\").get_text()\n",
    "        au = au.splitlines()\n",
    "        try:\n",
    "            t = au[2]\n",
    "            t = t.split(\" \")\n",
    "            if t[3] == \"Outubro\":\n",
    "                t[3] = \"10\"\n",
    "            elif t[3] == \"Setembro\":\n",
    "                t[3] = \"09\"\n",
    "            elif t[3] == \"Agosto\":\n",
    "                t[3] = \"08\"\n",
    "            d = t[1]+\"/\"+t[3]+\"/\"+t[5]\n",
    "            h = t[-1].split(\"h\")\n",
    "            h = h[0]+\":\"+h[-1]\n",
    "        except IndexError:\n",
    "            d = \"-\"\n",
    "            h = \"-\"\n",
    "            \n",
    "        data_ct.append(d)\n",
    "        hora_ct.append(h)\n",
    "        \n",
    "        au = au[1].split(\" \")\n",
    "        try:\n",
    "            au = au[1]+\" \"+au[2]\n",
    "        except IndexError:\n",
    "            au = \"-\"\n",
    "        autor_ct.append(au)\n",
    "               \n",
    "        n = link.find(class_ = \"title\")\n",
    "        noticia_ct.append(n.get_text())        \n",
    "        \n",
    "        tg = artigo.find(class_=\"breadcrumb\").get_text()\n",
    "        tg = tg.splitlines()\n",
    "        try:\n",
    "            tg = [tg[5], tg[8]]\n",
    "        except IndexError:\n",
    "            tg = tg[5]\n",
    "            \n",
    "        tags_ct.append(tg)\n",
    "        \n",
    "        origem_ct.append(\"Canaltech\")"
   ]
  },
  {
   "cell_type": "markdown",
   "metadata": {},
   "source": [
    "### Formação da tabela com valores obtidos"
   ]
  },
  {
   "cell_type": "code",
   "execution_count": 488,
   "metadata": {},
   "outputs": [],
   "source": [
    "canaltech = pd.DataFrame ({\n",
    "    \"Título\": noticia_ct,\n",
    "    \"Autor\": autor_ct,\n",
    "    \"Conteúdo\": materia_ct,\n",
    "    \"Data\": data_ct,\n",
    "    \"Hora\": hora_ct,\n",
    "    \"Tags\": tags_ct,\n",
    "    \"Site\": origem_ct\n",
    "})"
   ]
  },
  {
   "cell_type": "code",
   "execution_count": 489,
   "metadata": {},
   "outputs": [],
   "source": [
    "tag_ct = {}\n",
    "\n",
    "filt = list(range(20))\n",
    "filt.extend(['a', 'de', 'e', 'o', 'r', 'n', 't', 'G', 's', 'm', 'f', 'S', 'w', 'i', 'c', 'I', 'v'])\n",
    "\n",
    "for linha in tags_ct:\n",
    "    for t in linha:\n",
    "        if t not in filt:\n",
    "            if t in tag_ct.keys():\n",
    "                tag_ct[t] += 1\n",
    "            else:\n",
    "                tag_ct[t] = 1\n",
    "                \n",
    "tag_ct_ord = dict(sorted(tag_ct.items(), key=lambda x: x[1], reverse=True))"
   ]
  },
  {
   "cell_type": "markdown",
   "metadata": {},
   "source": [
    "## Tabela Integrada"
   ]
  },
  {
   "cell_type": "code",
   "execution_count": 490,
   "metadata": {},
   "outputs": [],
   "source": [
    "noticia = noticia_tm + noticia_tt + noticia_od + noticia_ct\n",
    "data = data_tm + data_tt + data_od + data_ct\n",
    "hora = hora_tm + hora_tt + hora_od + hora_ct\n",
    "materia= materia_tm + materia_tt + materia_od + materia_ct\n",
    "autor = autor_tm + autor_tt + autor_od + autor_ct\n",
    "tags = tags_tm + tags_tt + tags_od + tags_ct\n",
    "origem = origem_tm + origem_tt + origem_od + origem_ct\n",
    "\n",
    "portais = pd.DataFrame ({\n",
    "    \"Título\": noticia,\n",
    "    \"Autor\": autor,\n",
    "    \"Conteúdo\": materia,\n",
    "    \"Data\": data,\n",
    "    \"Hora\": hora,\n",
    "    \"Tags\": tags,\n",
    "    \"Site\": origem\n",
    "})"
   ]
  },
  {
   "cell_type": "code",
   "execution_count": 491,
   "metadata": {},
   "outputs": [],
   "source": [
    "tag = {}\n",
    "tag_site = {}\n",
    "filt = list(range(20))\n",
    "filt.extend(['a', 'de', 'e', 'o', 'r', 'n', 't', 'G', 's', 'm', 'f', 'S', 'w', 'i', 'c', 'I', 'v'])\n",
    "\n",
    "for linha in tags:\n",
    "    for t in linha:\n",
    "        if t not in filt:\n",
    "            if t in tag.keys():\n",
    "                tag[t] += 1\n",
    "            else:\n",
    "                tag[t] = 1\n",
    "            \n",
    "tag_ord = dict(sorted(tag.items(), key=lambda x: x[1], reverse=True))"
   ]
  },
  {
   "cell_type": "markdown",
   "metadata": {},
   "source": [
    "## Tags mais usadas"
   ]
  },
  {
   "cell_type": "markdown",
   "metadata": {},
   "source": [
    "### Todos os sites"
   ]
  },
  {
   "cell_type": "code",
   "execution_count": 467,
   "metadata": {
    "scrolled": true
   },
   "outputs": [
    {
     "data": {
      "image/png": "[encoded data removed]",
      "text/plain": [
       "<Figure size 432x288 with 1 Axes>"
      ]
     },
     "metadata": {
      "needs_background": "light"
     },
     "output_type": "display_data"
    }
   ],
   "source": [
    "plt.bar(list(tag_ord.keys())[:20], list(tag_ord.values())[:20])\n",
    "plt.xlabel('Tags')\n",
    "plt.ylabel('Quantidade')\n",
    "plt.xticks(rotation=90)\n",
    "plt.title('Tags mais usadas')\n",
    "plt.show()"
   ]
  },
  {
   "cell_type": "markdown",
   "metadata": {},
   "source": [
    "### Tecmundo"
   ]
  },
  {
   "cell_type": "code",
   "execution_count": 468,
   "metadata": {
    "scrolled": true
   },
   "outputs": [
    {
     "data": {
      "image/png": "[encoded data removed]",
      "text/plain": [
       "<Figure size 432x288 with 1 Axes>"
      ]
     },
     "metadata": {
      "needs_background": "light"
     },
     "output_type": "display_data"
    }
   ],
   "source": [
    "plt.bar(list(tag_tm_ord.keys())[:15], list(tag_tm_ord.values())[:15])\n",
    "plt.xlabel('Tags')\n",
    "plt.ylabel('Quantidade')\n",
    "plt.xticks(rotation=90)\n",
    "plt.title('Tags mais usadas no site Techmundo')\n",
    "plt.show()"
   ]
  },
  {
   "cell_type": "code",
   "execution_count": 412,
   "metadata": {},
   "outputs": [
    {
     "name": "stdout",
     "output_type": "stream",
     "text": [
      "18  -  1.0\n",
      "0  -  0.0\n"
     ]
    }
   ],
   "source": [
    "i = 0\n",
    "j = 0\n",
    "\n",
    "# Verificação das interseções entre tags\n",
    "\n",
    "for x in tags_tm:\n",
    "    if 'CulturaGeek' in x and 'Cinema' in x:\n",
    "        i += 1\n",
    "        \n",
    "    if 'Produto' in x and 'Software' in x:\n",
    "        j += 1\n",
    "\n",
    "print(i, \" - \", i/tag_tm['Cinema'])\n",
    "print(j, \" - \", j/tag_tm['Software'])"
   ]
  },
  {
   "cell_type": "markdown",
   "metadata": {},
   "source": [
    "A princípio o site techmundo aparenta ser muito mais voltados para cultura geek e cinema, já que são assuntos relacionados e estão entre as 3 tags mais repetidas nos últimos dias. \n",
    "\n",
    "Porém analisando mais esse resultado vemos que o conjunto cinema está contido no conjunto cultura geek, tornando o resultado redundante. \n",
    "\n",
    "Analisando os proximos resultados temos as tags produtos e software, cuja interseção é nula, apontando que os assuntos explorados pelo site são mais diversos do que uma análise inicial pelo gráfico indicaria.\n",
    "\n",
    "Assim, as 3 principais tags observadas no site Techmundo são:\n",
    "* Cultura Geek\n",
    "* Produto\n",
    "* Software"
   ]
  },
  {
   "cell_type": "markdown",
   "metadata": {},
   "source": [
    "### Techtudo"
   ]
  },
  {
   "cell_type": "code",
   "execution_count": 469,
   "metadata": {
    "scrolled": true
   },
   "outputs": [
    {
     "data": {
      "image/png": "[encoded data removed]",
      "text/plain": [
       "<Figure size 432x288 with 1 Axes>"
      ]
     },
     "metadata": {
      "needs_background": "light"
     },
     "output_type": "display_data"
    }
   ],
   "source": [
    "plt.bar(list(tag_tt_ord.keys())[:15], list(tag_tt_ord.values())[:15])\n",
    "plt.xlabel('Tags')\n",
    "plt.ylabel('Quantidade')\n",
    "plt.xticks(rotation=90)\n",
    "plt.title('Tags mais usadas no site Techtudo')\n",
    "plt.show()"
   ]
  },
  {
   "cell_type": "code",
   "execution_count": 411,
   "metadata": {},
   "outputs": [
    {
     "name": "stdout",
     "output_type": "stream",
     "text": [
      "16  -  0.9411764705882353\n",
      "13  -  0.8125\n",
      "15  -  1.0\n",
      "14  -  0.875\n",
      "10  -  0.6666666666666666\n",
      "9  -  0.6428571428571429\n"
     ]
    }
   ],
   "source": [
    "i = 0\n",
    "j = 0\n",
    "k = 0\n",
    "\n",
    "a = 0\n",
    "b = 0\n",
    "c = 0\n",
    "\n",
    "# Verificação das interseções entre tags\n",
    "\n",
    "for x in tags_tt:\n",
    "    if 'Sistemas Operacionais' in x:\n",
    "        if 'Celular' in x:\n",
    "            i += 1\n",
    "        if 'iPhone' in x:\n",
    "            j += 1\n",
    "        if 'Android' in x:\n",
    "            k += 1\n",
    "        \n",
    "    if 'Celular' in x: \n",
    "        if 'iPhone' in x:\n",
    "            a += 1        \n",
    "        if 'Android' in x:\n",
    "            b += 1\n",
    "            \n",
    "    if 'iPhone' in x and 'iOS' in x:\n",
    "        c += 1\n",
    "\n",
    "print(i, \" - \", i/tag_tt['Celular'])\n",
    "print(j, \" - \", j/tag_tt['iPhone'])\n",
    "print(k, \" - \", k/tag_tt['Android'])\n",
    "\n",
    "print(a, \" - \", a/tag_tt['iPhone'])\n",
    "print(b, \" - \", b/tag_tt['Android'])\n",
    "\n",
    "print(c, \" - \", c/tag_tt['iOS'])"
   ]
  },
  {
   "cell_type": "markdown",
   "metadata": {},
   "source": [
    "Igual ao site Techmundo, as tags mais usadas do site Techtudo são redundantes, a mais usada (sistemas operacionais) está presente em pelo menos 80% das ocorrências de cada umas das 3 próximas na lista.\n",
    "\n",
    "A princípio poderia ser tirada a conclusão, baseado na utilização das tags,  que o site Techtudo é muito voltado para celulares, porém analisando melhor os dados temos que os temas abordados são mais variados."
   ]
  },
  {
   "cell_type": "markdown",
   "metadata": {},
   "source": [
    "### Olhar Digital"
   ]
  },
  {
   "cell_type": "code",
   "execution_count": 470,
   "metadata": {
    "scrolled": true
   },
   "outputs": [
    {
     "data": {
      "image/png": "[encoded data removed]",
      "text/plain": [
       "<Figure size 432x288 with 1 Axes>"
      ]
     },
     "metadata": {
      "needs_background": "light"
     },
     "output_type": "display_data"
    }
   ],
   "source": [
    "plt.bar(list(tag_od_ord.keys())[:15], list(tag_od_ord.values())[:15])\n",
    "plt.xlabel('Tags')\n",
    "plt.ylabel('Quantidade')\n",
    "plt.xticks(rotation=90)\n",
    "plt.title('Tags mais usadas no site Olhar Digital')\n",
    "plt.show()"
   ]
  },
  {
   "cell_type": "code",
   "execution_count": 420,
   "metadata": {},
   "outputs": [
    {
     "name": "stdout",
     "output_type": "stream",
     "text": [
      "6  -  0.25  -  0.2222222222222222\n",
      "1  -  0.05263157894736842\n",
      "2  -  0.11764705882352941\n",
      "0  -  0.0\n",
      "6  -  0.35294117647058826\n"
     ]
    }
   ],
   "source": [
    "i = 0\n",
    "j = 0\n",
    "k = 0\n",
    "\n",
    "a = 0\n",
    "b = 0\n",
    "\n",
    "# Verificação das interseções entre tags\n",
    "\n",
    "for x in tags_od:\n",
    "    if 'Google' in x:\n",
    "        if 'Android' in x:\n",
    "            i += 1\n",
    "        if 'smartphone' in x:\n",
    "            j += 1\n",
    "        if 'aplicativo' in x:\n",
    "            k += 1\n",
    "        \n",
    "    if 'Android' in x: \n",
    "        if 'smatphone' in x:\n",
    "            a += 1        \n",
    "        if 'aplicativo' in x:\n",
    "            b += 1\n",
    "\n",
    "print(i, \" - \", i/tag_od['Android'], \" - \", i/tag_od['Google'])\n",
    "print(j, \" - \", j/tag_od['smartphone'])\n",
    "print(k, \" - \", k/tag_od['aplicativo'])\n",
    "\n",
    "print(a, \" - \", a/tag_od['smartphone'])\n",
    "print(b, \" - \", b/tag_od['aplicativo'])"
   ]
  },
  {
   "cell_type": "markdown",
   "metadata": {},
   "source": [
    "O site Olhar Digital tem como tags mais usadas Google e Android, a princípio pode parecer redundante, porém analisando a interseção desses conjuntos temos que as tags aparecem juntas apenas 6 vezes (25% das ocorrências da tag Android e 22% da tag Google).\n",
    "\n",
    "A mesma coisa ocorre com as próximas tag na ordem, dessa forma é possível concluir que nos últimos dias o site Olhar Digital tem notícias mais focado no Google e em celulares."
   ]
  },
  {
   "cell_type": "markdown",
   "metadata": {},
   "source": [
    "### Canaltech"
   ]
  },
  {
   "cell_type": "code",
   "execution_count": 492,
   "metadata": {
    "scrolled": true
   },
   "outputs": [
    {
     "data": {
      "image/png": "[encoded data removed]",
      "text/plain": [
       "<Figure size 432x288 with 1 Axes>"
      ]
     },
     "metadata": {
      "needs_background": "light"
     },
     "output_type": "display_data"
    }
   ],
   "source": [
    "plt.bar(list(tag_ct_ord.keys())[:15], list(tag_ct_ord.values())[:15])\n",
    "plt.xlabel('Tags')\n",
    "plt.ylabel('Quantidade')\n",
    "plt.xticks(rotation=90)\n",
    "plt.title('Tags mais usadas no site Techtudo')\n",
    "plt.show()"
   ]
  },
  {
   "cell_type": "code",
   "execution_count": 494,
   "metadata": {},
   "outputs": [
    {
     "name": "stdout",
     "output_type": "stream",
     "text": [
      "0  -  0.0\n",
      "0  -  0.0\n",
      "0  -  0.0\n",
      "0  -  0.0\n",
      "0  -  0.0\n",
      "0  -  0.0\n",
      "0  -  0.0\n",
      "16  -  1.0\n"
     ]
    }
   ],
   "source": [
    "i = 0\n",
    "j = 0\n",
    "k = 0\n",
    "l = 0\n",
    "\n",
    "a = 0\n",
    "b = 0\n",
    "c = 0\n",
    "\n",
    "w = 0\n",
    "\n",
    "# Verificação das interseções entre tags\n",
    "\n",
    "for x in tags_ct:\n",
    "    if 'Produtos' in x:\n",
    "        if 'Mercado' in x:\n",
    "            i += 1\n",
    "        if 'Software' in x:\n",
    "            j += 1\n",
    "        if 'Espaço' in x:\n",
    "            k += 1\n",
    "        if 'Ciência' in x:\n",
    "            l += 1\n",
    "        \n",
    "    if 'Mercado' in x: \n",
    "        if 'Software' in x:\n",
    "            a += 1        \n",
    "        if 'Ciência' in x:\n",
    "            b += 1\n",
    "        if 'Produtos' in x:\n",
    "            c += 1\n",
    "            \n",
    "    if 'Ciência' in x and 'Espaço' in x:\n",
    "        w += 1\n",
    "\n",
    "print(i, \" - \", i/tag_ct['Mercado'])\n",
    "print(j, \" - \", j/tag_ct['Software'])\n",
    "print(k, \" - \", k/tag_ct['Espaço'])\n",
    "print(l, \" - \", l/tag_ct['Ciência'])\n",
    "\n",
    "print(a, \" - \", a/tag_ct['Software'])\n",
    "print(b, \" - \", b/tag_ct['Ciência'])\n",
    "print(c, \" - \", c/tag_ct['Produtos'])\n",
    "\n",
    "print(w, \" - \", w/tag_ct['Espaço'])"
   ]
  },
  {
   "cell_type": "markdown",
   "metadata": {},
   "source": [
    "O site Canaltech não possui interseção entre as suas principais tags, exceto pela tag espaço que está contida na tag ciência. No caso o site trata de assuntos diversos sem ter um foco claro."
   ]
  },
  {
   "cell_type": "markdown",
   "metadata": {},
   "source": [
    "## Publicações por dia"
   ]
  },
  {
   "cell_type": "code",
   "execution_count": 514,
   "metadata": {},
   "outputs": [],
   "source": [
    "post_dia = {}\n",
    "\n",
    "tecmundo_data = tecmundo.Data == '03/10/2019'\n",
    "tecmundo_data = sum(tecmundo_data)\n",
    "post_dia['tecmundo'] = tecmundo_data\n",
    "\n",
    "techtudo_data = techtudo.Data == '03/10/2019'\n",
    "techtudo_data = sum(techtudo_data)\n",
    "dia.append(techtudo_data)\n",
    "post_dia['techtudo'] = techtudo_data\n",
    "\n",
    "olhardigital_data = olhar_digital.Data == '03/10/2019'\n",
    "olhardigital_data = sum(olhardigital_data)\n",
    "post_dia['olhar digital'] = olhardigital_data\n",
    "\n",
    "canaltech_data = canaltech.Data == '03/10/2019'\n",
    "canaltech_data = sum(canaltech_data)\n",
    "post_dia['canaltech'] = canaltech_data\n",
    "\n",
    "post_dia_ord = dict(sorted(post_dia.items(), key=lambda x: x[1], reverse=True))"
   ]
  },
  {
   "cell_type": "code",
   "execution_count": 510,
   "metadata": {
    "scrolled": true
   },
   "outputs": [
    {
     "data": {
      "image/png": "[encoded data removed]",
      "text/plain": [
       "<Figure size 432x288 with 1 Axes>"
      ]
     },
     "metadata": {
      "needs_background": "light"
     },
     "output_type": "display_data"
    }
   ],
   "source": [
    "plt.bar(post_dia_ord.keys(), post_dia_ord.values())\n",
    "plt.xlabel('Site')\n",
    "plt.ylabel('Posts')\n",
    "plt.title('Quantidade de post no dia 03/10/2019')\n",
    "plt.show()"
   ]
  },
  {
   "cell_type": "markdown",
   "metadata": {},
   "source": [
    "O gráfico acima relaciona cada site com a quantidade de matéria postadas no dia 03/10/2019, é possível ver que os sites se dividem em 2 grupos, o primeiro com Canaltech e Olhar Digital que publicaram mais de 50 matérias no dia, e o segundo com Tecmundo e Techtudo que tiveram entre 30 e 35 postagens no dia."
   ]
  },
  {
   "cell_type": "markdown",
   "metadata": {},
   "source": [
    "## Repercusão por tag no site Tecmundo"
   ]
  },
  {
   "cell_type": "code",
   "execution_count": 524,
   "metadata": {},
   "outputs": [],
   "source": [
    "tag_comp = {}\n",
    "tag_coment = {}\n",
    "tag_comp_med = {}\n",
    "tag_coment_med = {}\n",
    "\n",
    "a = 1\n",
    "b = 1\n",
    "\n",
    "for i in range(len(tags_tm)):\n",
    "    if data_tm[i] != ('04/10/2019'):\n",
    "        coment = comentarios_tm[i]\n",
    "        comp = compartilhamentos_tm[i]\n",
    "        for t in tags_tm[i]:\n",
    "            if t in tag_coment.keys():\n",
    "                tag_coment[t] += coment\n",
    "            else:\n",
    "                tag_coment[t] = coment\n",
    "            \n",
    "            if t in tag_comp.keys():\n",
    "                tag_comp[t] += comp\n",
    "            else:\n",
    "                tag_comp[t] = comp\n",
    "\n",
    "for x in tag_comp:\n",
    "    tag_comp_med[x] = tag_comp[x] / tag_tm[x]\n",
    "    tag_coment_med[x] = tag_coment[x] / tag_tm[x]\n",
    "    \n",
    "\n",
    "tag_comp_ord = dict(sorted(tag_comp.items(), key=lambda x: x[1], reverse=True))\n",
    "tag_coment_ord = dict(sorted(tag_coment.items(), key=lambda x: x[1], reverse=True))\n",
    "tag_comp_med_ord = dict(sorted(tag_comp_med.items(), key=lambda x: x[1], reverse=True))\n",
    "tag_coment_med_ord = dict(sorted(tag_coment_med.items(), key=lambda x: x[1], reverse=True))"
   ]
  },
  {
   "cell_type": "code",
   "execution_count": 520,
   "metadata": {
    "scrolled": true
   },
   "outputs": [
    {
     "data": {
      "image/png": "[encoded data removed]",
      "text/plain": [
       "<Figure size 432x288 with 1 Axes>"
      ]
     },
     "metadata": {
      "needs_background": "light"
     },
     "output_type": "display_data"
    }
   ],
   "source": [
    "plt.bar(list(tag_comp_ord.keys())[:15], list(tag_comp_ord.values())[:15])\n",
    "plt.xlabel('Tag')\n",
    "plt.ylabel('Compartilhamentos')\n",
    "plt.xticks(rotation=90)\n",
    "plt.title('Quantidade de compartilhamentos por tag')\n",
    "plt.show()"
   ]
  },
  {
   "cell_type": "code",
   "execution_count": 521,
   "metadata": {},
   "outputs": [
    {
     "data": {
      "image/png": "[encoded data removed]",
      "text/plain": [
       "<Figure size 432x288 with 1 Axes>"
      ]
     },
     "metadata": {
      "needs_background": "light"
     },
     "output_type": "display_data"
    }
   ],
   "source": [
    "plt.bar(list(tag_coment_ord.keys())[:15], list(tag_coment_ord.values())[:15])\n",
    "plt.xlabel('Tag')\n",
    "plt.ylabel('Comentários')\n",
    "plt.xticks(rotation=90)\n",
    "plt.title('Quantidade de comentários por tag')\n",
    "plt.show()"
   ]
  },
  {
   "cell_type": "code",
   "execution_count": 525,
   "metadata": {},
   "outputs": [
    {
     "data": {
      "image/png": "[encoded data removed]",
      "text/plain": [
       "<Figure size 432x288 with 1 Axes>"
      ]
     },
     "metadata": {
      "needs_background": "light"
     },
     "output_type": "display_data"
    }
   ],
   "source": [
    "plt.bar(list(tag_comp_med_ord.keys())[:15], list(tag_comp_med_ord.values())[:15])\n",
    "plt.xlabel('Tag')\n",
    "plt.ylabel('Compartilhamentos')\n",
    "plt.xticks(rotation=90)\n",
    "plt.title('Quantidade de compartilhamentos médios por tag')\n",
    "plt.show()"
   ]
  },
  {
   "cell_type": "code",
   "execution_count": 526,
   "metadata": {},
   "outputs": [
    {
     "data": {
      "image/png": "[encoded data removed]",
      "text/plain": [
       "<Figure size 432x288 with 1 Axes>"
      ]
     },
     "metadata": {
      "needs_background": "light"
     },
     "output_type": "display_data"
    }
   ],
   "source": [
    "plt.bar(list(tag_coment_med_ord.keys())[:15], list(tag_coment_med_ord.values())[:15])\n",
    "plt.xlabel('Tag')\n",
    "plt.ylabel('Comentários')\n",
    "plt.xticks(rotation=90)\n",
    "plt.title('Quantidade de comentários médios por tag')\n",
    "plt.show()"
   ]
  },
  {
   "cell_type": "markdown",
   "metadata": {},
   "source": [
    "Analisando os gráficos é possível perceber que a tag que gerou maior repercusão entre os usuários do site foi a Surface, essa tag teve apenas e 3 posts e foi responsável por grande parte dos comentários do site.\n",
    "\n",
    "A tag Surface não teve a maior quantidade absoluta de comentários, porém o motivo disso é porque ela está contida nas tags Microsoft e Produto. Se for analisada as médias de compartilhamentos e comentários por post fica claro que os altos valores absolutos dessas tags são devido ao posts da tag Surface "
   ]
  }
 ],
 "metadata": {
  "kernelspec": {
   "display_name": "Python 3",
   "language": "python",
   "name": "python3"
  },
  "language_info": {
   "codemirror_mode": {
    "name": "ipython",
    "version": 3
   },
   "file_extension": ".py",
   "mimetype": "text/x-python",
   "name": "python",
   "nbconvert_exporter": "python",
   "pygments_lexer": "ipython3",
   "version": "3.7.3"
  }
 },
 "nbformat": 4,
 "nbformat_minor": 2
}
